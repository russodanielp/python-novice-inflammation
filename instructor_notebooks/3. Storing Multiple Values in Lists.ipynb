{
 "cells": [
  {
   "cell_type": "markdown",
   "metadata": {},
   "source": [
    "# Storing Multiple Values in Lists #\n",
    "\n",
    "### ** Questions ** ###\n",
    "\n",
    "* How can I store many values together?\n",
    "\n",
    "### ** Objectives ** ###\n",
    "\n",
    "* Learn what a `list` is.\n",
    "* Create and index `list`'s of simple values"
   ]
  },
  {
   "cell_type": "markdown",
   "metadata": {},
   "source": [
    "## What's a `list`? ##\n",
    "\n",
    "* Similar to a Numpy `array`, but native to the Python language.\n",
    "* Can store values of any `type` in a certain order.\n",
    "* Are declared by `[]`.\n",
    "* Can access elements of a certain \"position\" called an `index`."
   ]
  },
  {
   "cell_type": "markdown",
   "metadata": {},
   "source": [
    "## Making a `list` ##\n",
    "\n",
    "* We can create a list, already populated with elements.  \n",
    "* Let's explore by making a list of odd numbers, 1-7 inclusive"
   ]
  },
  {
   "cell_type": "code",
   "execution_count": null,
   "metadata": {
    "collapsed": false
   },
   "outputs": [],
   "source": []
  },
  {
   "cell_type": "markdown",
   "metadata": {},
   "source": [
    "Just like strings, Numpy arrays, we can access elements by index."
   ]
  },
  {
   "cell_type": "code",
   "execution_count": null,
   "metadata": {
    "collapsed": false
   },
   "outputs": [],
   "source": []
  },
  {
   "cell_type": "markdown",
   "metadata": {},
   "source": [
    "We could iterate over a string, so why not a list:"
   ]
  },
  {
   "cell_type": "code",
   "execution_count": null,
   "metadata": {
    "collapsed": false
   },
   "outputs": [],
   "source": []
  },
  {
   "cell_type": "markdown",
   "metadata": {},
   "source": [
    "## Immutable vs. mutable ##\n",
    "\n",
    "* Items whose contents can be directly changed are said to be _mutable_\n",
    "* Items whose contents _can not_ be directly changed are said to be _immutable_\n",
    "* Lists are mutable\n",
    "* Strings and integers are immutable"
   ]
  },
  {
   "cell_type": "code",
   "execution_count": null,
   "metadata": {
    "collapsed": false
   },
   "outputs": [],
   "source": []
  },
  {
   "cell_type": "markdown",
   "metadata": {},
   "source": [
    "Now if we tried to manipulate the typo in Darwin's name directly, we would get an error."
   ]
  },
  {
   "cell_type": "code",
   "execution_count": null,
   "metadata": {
    "collapsed": false
   },
   "outputs": [],
   "source": []
  },
  {
   "cell_type": "markdown",
   "metadata": {},
   "source": [
    "## Nested `lists` ##\n",
    "\n",
    "* `lists` can store any object; even lists!\n",
    "* a `list` within a `list` is said to be _nested_\n",
    "* Let's make a list containing three lists, each with three elements (food items)"
   ]
  },
  {
   "cell_type": "code",
   "execution_count": 6,
   "metadata": {
    "collapsed": true
   },
   "outputs": [],
   "source": []
  },
  {
   "cell_type": "markdown",
   "metadata": {
    "collapsed": true
   },
   "source": [
    "Using this \"shelves\" analogy, we can access each shelf individually by using normal list indexing.  Let's say we wanted to obtain all the items on the first shelf.  All we would need to do is grab the first element of `x`."
   ]
  },
  {
   "cell_type": "code",
   "execution_count": 7,
   "metadata": {
    "collapsed": false
   },
   "outputs": [
    {
     "data": {
      "text/plain": [
       "['pepper', 'zucchini', 'onion']"
      ]
     },
     "execution_count": 7,
     "metadata": {},
     "output_type": "execute_result"
    }
   ],
   "source": []
  },
  {
   "cell_type": "markdown",
   "metadata": {},
   "source": [
    "Voila!  A `list` returned.  \n",
    "\n",
    "What if we wanted an element within that list?"
   ]
  },
  {
   "cell_type": "code",
   "execution_count": 8,
   "metadata": {
    "collapsed": false
   },
   "outputs": [
    {
     "data": {
      "text/plain": [
       "'onion'"
      ]
     },
     "execution_count": 8,
     "metadata": {},
     "output_type": "execute_result"
    }
   ],
   "source": []
  },
  {
   "cell_type": "markdown",
   "metadata": {},
   "source": [
    "Just as we say that we could access the first element of `x` be using indexing `x[0]`; Since we know `x[0]` is also a list, we can access it's elements in the same way (`x[0][2]` for example)."
   ]
  },
  {
   "cell_type": "markdown",
   "metadata": {},
   "source": [
    "## Adding, Removing, and Manipulating Elements of a `list` ##\n",
    "\n",
    "* The `append()` method adds an element to the end of a list\n",
    "* The `del` statement deletes an element at a given index\n",
    "* The `reverse()` method changes the order of a `list`"
   ]
  },
  {
   "cell_type": "code",
   "execution_count": null,
   "metadata": {
    "collapsed": false
   },
   "outputs": [],
   "source": []
  },
  {
   "cell_type": "code",
   "execution_count": null,
   "metadata": {
    "collapsed": false
   },
   "outputs": [],
   "source": []
  },
  {
   "cell_type": "code",
   "execution_count": null,
   "metadata": {
    "collapsed": false
   },
   "outputs": [],
   "source": []
  },
  {
   "cell_type": "markdown",
   "metadata": {},
   "source": [
    "## Copying a List ## \n",
    "\n",
    "* Copying a list by _assigning_ it to another variable does not copy the `list`, it just \"points to\" that `list`\n",
    "* If we want to make a copy we should use the `list()` function"
   ]
  },
  {
   "cell_type": "code",
   "execution_count": null,
   "metadata": {
    "collapsed": false
   },
   "outputs": [],
   "source": []
  },
  {
   "cell_type": "code",
   "execution_count": null,
   "metadata": {
    "collapsed": false
   },
   "outputs": [],
   "source": []
  },
  {
   "cell_type": "markdown",
   "metadata": {},
   "source": [
    "## Ex. 1: Turn a String Into a List ## \n",
    "\n",
    "Use a for-loop to convert the string “hello” into a list of letters:"
   ]
  },
  {
   "cell_type": "code",
   "execution_count": 13,
   "metadata": {
    "collapsed": false
   },
   "outputs": [
    {
     "data": {
      "text/plain": [
       "['h', 'e', 'l', 'l', 'o']"
      ]
     },
     "execution_count": 13,
     "metadata": {},
     "output_type": "execute_result"
    }
   ],
   "source": [
    "[\"h\", \"e\", \"l\", \"l\", \"o\"]"
   ]
  },
  {
   "cell_type": "markdown",
   "metadata": {},
   "source": [
    "Hint: You can create an empty list like this"
   ]
  },
  {
   "cell_type": "code",
   "execution_count": 15,
   "metadata": {
    "collapsed": true
   },
   "outputs": [],
   "source": [
    "my_list = []"
   ]
  },
  {
   "cell_type": "code",
   "execution_count": 14,
   "metadata": {
    "collapsed": true
   },
   "outputs": [],
   "source": [
    "### answer here ###"
   ]
  },
  {
   "cell_type": "markdown",
   "metadata": {},
   "source": [
    "## Slicing ##\n",
    "\n",
    "Sometimes we don't always want an individual element in a list.  Sometimes we want several consecutive elements.  Just as we were able to access certaing ranges of positions in a Numpy array, we can so the same with lists and strings.  This is commonly referred to as _slicing_."
   ]
  },
  {
   "cell_type": "code",
   "execution_count": 18,
   "metadata": {
    "collapsed": false
   },
   "outputs": [
    {
     "name": "stdout",
     "output_type": "stream",
     "text": [
      "group: Drosophila\n",
      "species: melanogaster\n",
      "autosomes: ['2', '3', '4']\n",
      "last: 4\n"
     ]
    }
   ],
   "source": [
    "binomial_name = \"Drosophila melanogaster\"\n",
    "group = binomial_name[0:10]\n",
    "print(\"group:\", group)\n",
    "\n",
    "species = binomial_name[11:24]\n",
    "print(\"species:\", species)\n",
    "\n",
    "chromosomes = [\"X\", \"Y\", \"2\", \"3\", \"4\"]\n",
    "autosomes = chromosomes[2:5]\n",
    "print(\"autosomes:\", autosomes)\n",
    "\n",
    "last = chromosomes[-1]\n",
    "print(\"last:\", last)"
   ]
  },
  {
   "cell_type": "markdown",
   "metadata": {},
   "source": [
    "## Ex. 2: Slicing From the End ##\n",
    "\n",
    "Use slicing to access only the last four characters of a string or entries of a list."
   ]
  },
  {
   "cell_type": "code",
   "execution_count": 19,
   "metadata": {
    "collapsed": true
   },
   "outputs": [],
   "source": [
    "string_for_slicing = \"Observation date: 02-Feb-2013\"\n",
    "list_for_slicing = [[\"fluorine\", \"F\"], [\"chlorine\", \"Cl\"], [\"bromine\", \"Br\"], [\"iodine\", \"I\"], [\"astatine\", \"At\"]]"
   ]
  },
  {
   "cell_type": "markdown",
   "metadata": {},
   "source": [
    "Would your solution work regardless of whether you knew beforehand the length of the string or list (e.g. if you wanted to apply the solution to a set of lists of different lengths)? If not, try to change your approach to make it more robust."
   ]
  },
  {
   "cell_type": "code",
   "execution_count": null,
   "metadata": {
    "collapsed": true
   },
   "outputs": [],
   "source": [
    "### answer here ###"
   ]
  },
  {
   "cell_type": "markdown",
   "metadata": {},
   "source": [
    "## Ex. 3: Non-Continuous Slices ##\n",
    "\n",
    "So far we’ve seen how to use slicing to take single blocks of successive entries from a sequence. But what if we want to take a subset of entries that aren’t next to each other in the sequence?\n",
    "\n",
    "You can achieve this by providing a third argument to the range within the brackets, called the step size. The example below shows how you can take every third entry in a list:"
   ]
  },
  {
   "cell_type": "code",
   "execution_count": 20,
   "metadata": {
    "collapsed": false
   },
   "outputs": [
    {
     "name": "stdout",
     "output_type": "stream",
     "text": [
      "subset [2, 7, 17, 29]\n"
     ]
    }
   ],
   "source": [
    "primes = [2, 3, 5, 7, 11, 13, 17, 19, 23, 29, 31, 37]\n",
    "subset = primes[0:12:3]\n",
    "print(\"subset\", subset)"
   ]
  },
  {
   "cell_type": "markdown",
   "metadata": {},
   "source": [
    "Notice that the slice taken begins with the first entry in the range, followed by entries taken at equally-spaced intervals (the steps) thereafter. If you wanted to begin the subset with the third entry, you would need to specify that as the starting point of the sliced range:"
   ]
  },
  {
   "cell_type": "code",
   "execution_count": 21,
   "metadata": {
    "collapsed": false
   },
   "outputs": [
    {
     "name": "stdout",
     "output_type": "stream",
     "text": [
      "subset [5, 13, 23, 37]\n"
     ]
    }
   ],
   "source": [
    "primes = [2, 3, 5, 7, 11, 13, 17, 19, 23, 29, 31, 37]\n",
    "subset = primes[2:12:3]\n",
    "print(\"subset\", subset)"
   ]
  },
  {
   "cell_type": "markdown",
   "metadata": {},
   "source": [
    "Use the step size argument to create a new string that contains only every other character in the string “In an octopus’s garden in the shade”"
   ]
  },
  {
   "cell_type": "code",
   "execution_count": 22,
   "metadata": {
    "collapsed": true
   },
   "outputs": [],
   "source": [
    "beatles = \"In an octopus's garden in the shade\""
   ]
  },
  {
   "cell_type": "code",
   "execution_count": null,
   "metadata": {
    "collapsed": true
   },
   "outputs": [],
   "source": [
    "### answer here ###"
   ]
  },
  {
   "cell_type": "markdown",
   "metadata": {},
   "source": [
    "If you want to take a slice from the beginning of a sequence, you can omit the first index in the range:"
   ]
  },
  {
   "cell_type": "code",
   "execution_count": 23,
   "metadata": {
    "collapsed": false
   },
   "outputs": [
    {
     "name": "stdout",
     "output_type": "stream",
     "text": [
      "Using 0 to begin range: Monday\n",
      "Omitting beginning index: Monday\n"
     ]
    }
   ],
   "source": [
    "date = \"Monday 4 January 2016\"\n",
    "day = date[0:6]\n",
    "print(\"Using 0 to begin range:\", day)\n",
    "day = date[:6]\n",
    "print(\"Omitting beginning index:\", day)"
   ]
  },
  {
   "cell_type": "markdown",
   "metadata": {},
   "source": [
    "And similarly, you can omit the ending index in the range to take a slice to the very end of the sequence:"
   ]
  },
  {
   "cell_type": "code",
   "execution_count": 24,
   "metadata": {
    "collapsed": false
   },
   "outputs": [
    {
     "name": "stdout",
     "output_type": "stream",
     "text": [
      "With known last position: ['sep', 'oct', 'nov', 'dec']\n",
      "Using len() to get last entry: ['sep', 'oct', 'nov', 'dec']\n"
     ]
    },
    {
     "data": {
      "text/plain": [
       "('Omitting ending index:', ['sep', 'oct', 'nov', 'dec'])"
      ]
     },
     "execution_count": 24,
     "metadata": {},
     "output_type": "execute_result"
    }
   ],
   "source": [
    "months = [\"jan\", \"feb\", \"mar\", \"apr\", \"may\", \"jun\", \"jul\", \"aug\", \"sep\", \"oct\", \"nov\", \"dec\"]\n",
    "sond = months[8:12]\n",
    "print(\"With known last position:\", sond)\n",
    "sond = months[8:len(months)]\n",
    "print(\"Using len() to get last entry:\", sond)\n",
    "sond = months[8:]\n",
    "(\"Omitting ending index:\", sond)"
   ]
  },
  {
   "cell_type": "markdown",
   "metadata": {},
   "source": [
    "## Ex. 4: Tuples and Exchanges\n",
    "\n",
    "Explain what the overall effect of this code is:"
   ]
  },
  {
   "cell_type": "code",
   "execution_count": 25,
   "metadata": {
    "collapsed": true
   },
   "outputs": [],
   "source": [
    "left = 'L'\n",
    "right = 'R'\n",
    "\n",
    "temp = left\n",
    "left = right\n",
    "right = temp"
   ]
  },
  {
   "cell_type": "markdown",
   "metadata": {},
   "source": [
    "Compared to:"
   ]
  },
  {
   "cell_type": "code",
   "execution_count": 26,
   "metadata": {
    "collapsed": true
   },
   "outputs": [],
   "source": [
    "left, right = right, left"
   ]
  },
  {
   "cell_type": "markdown",
   "metadata": {},
   "source": [
    "Do they always do the same thing? Which do you find easier to read?"
   ]
  },
  {
   "cell_type": "code",
   "execution_count": 27,
   "metadata": {
    "collapsed": true
   },
   "outputs": [],
   "source": [
    "### answer here ###"
   ]
  },
  {
   "cell_type": "markdown",
   "metadata": {},
   "source": [
    "## Ex. 5: Overloading\n",
    "\n",
    "+ usually means addition, but when used on strings or lists, it means “concatenate”. Given that, what do you think the multiplication operator * does on lists? In particular, what will be the output of the following code?\n",
    "\n",
    "```python\n",
    "counts = [2, 4, 6, 8, 10]\n",
    "repeats = counts * 2\n",
    "print(repeats)\n",
    "```"
   ]
  },
  {
   "cell_type": "code",
   "execution_count": 29,
   "metadata": {
    "collapsed": true
   },
   "outputs": [],
   "source": [
    "### answer here ###"
   ]
  },
  {
   "cell_type": "markdown",
   "metadata": {},
   "source": [
    "### Key Points ###\n",
    "\n",
    "* `[value1, value2, value3, ...]` creates a list.\n",
    "* Lists are indexed and sliced in the same way as strings and arrays.\n",
    "* Lists are mutable (i.e., their values can be changed in place).\n",
    "* Strings are immutable (i.e., the characters in them cannot be changed)."
   ]
  }
 ],
 "metadata": {
  "anaconda-cloud": {},
  "kernelspec": {
   "display_name": "Python [Root]",
   "language": "python",
   "name": "Python [Root]"
  },
  "language_info": {
   "codemirror_mode": {
    "name": "ipython",
    "version": 3
   },
   "file_extension": ".py",
   "mimetype": "text/x-python",
   "name": "python",
   "nbconvert_exporter": "python",
   "pygments_lexer": "ipython3",
   "version": "3.5.2"
  }
 },
 "nbformat": 4,
 "nbformat_minor": 0
}
