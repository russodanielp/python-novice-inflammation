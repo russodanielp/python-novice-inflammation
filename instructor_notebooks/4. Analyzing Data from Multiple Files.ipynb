{
 "cells": [
  {
   "cell_type": "markdown",
   "metadata": {},
   "source": [
    "# Analyzing Data From Multiple Files #\n",
    "\n",
    "### ** Questions ** ###\n",
    "\n",
    "* How can I do the same operations on many different files?\n",
    "\n",
    "### ** Objectives ** ###\n",
    "\n",
    "* Learn to use a library function to get a list of filenames that match a simple wildcard pattern.\n",
    "* Learn to use a for loop to process multiple files."
   ]
  },
  {
   "cell_type": "markdown",
   "metadata": {},
   "source": [
    "## The `glob` Library ##\n",
    "\n",
    "* A Python library called `glob` \n",
    "* Has a function called `glob()`\n",
    "* `glob()` will match patters using strings and some reserved characters\n",
    "* `*` can be any zero or more characters\n",
    "  * all file types of the same name `filename.*`\n",
    "  * would match `filename.txt`, `filename.csv`, `filename.ipynb`\n",
    "* `?` can be any one character\n",
    "  * filenames with digits `filename?.txt`\n",
    "  * would match `filename1.txt`, `filename2.txt`, `filenameA.txt`, etc."
   ]
  },
  {
   "cell_type": "code",
   "execution_count": null,
   "metadata": {
    "collapsed": false
   },
   "outputs": [],
   "source": []
  },
  {
   "cell_type": "code",
   "execution_count": 2,
   "metadata": {
    "collapsed": false
   },
   "outputs": [
    {
     "name": "stdout",
     "output_type": "stream",
     "text": [
      "['../data\\\\inflammation-01.csv', '../data\\\\inflammation-02.csv', '../data\\\\inflammation-03.csv', '../data\\\\inflammation-04.csv', '../data\\\\inflammation-05.csv', '../data\\\\inflammation-06.csv', '../data\\\\inflammation-07.csv', '../data\\\\inflammation-08.csv', '../data\\\\inflammation-09.csv', '../data\\\\inflammation-10.csv', '../data\\\\inflammation-11.csv', '../data\\\\inflammation-12.csv']\n"
     ]
    }
   ],
   "source": []
  },
  {
   "cell_type": "markdown",
   "metadata": {},
   "source": [
    "## Plotting the First Three Files ##\n",
    "\n",
    "* We can store the filenames into a list\n",
    "* We can sort this list using Python's `sorted()` function\n",
    "* We can access the first three files of the sorted list \n",
    "* We can plot each data set using a `for` loop"
   ]
  },
  {
   "cell_type": "code",
   "execution_count": 3,
   "metadata": {
    "collapsed": true
   },
   "outputs": [],
   "source": [
    "\n"
   ]
  },
  {
   "cell_type": "code",
   "execution_count": null,
   "metadata": {
    "collapsed": false
   },
   "outputs": [],
   "source": []
  },
  {
   "cell_type": "markdown",
   "metadata": {},
   "source": [
    "## What's the Problem? ##\n",
    "\n",
    "* The first two data sets show the same ramp as we saw before\n",
    "* The third data set shows a new problem, where the minima is constantly zero.  "
   ]
  },
  {
   "cell_type": "markdown",
   "metadata": {},
   "source": [
    "## Ex. 1: Plotting Differences\n",
    "\n",
    "Plot the difference between the average of the first dataset and the average of the second dataset, i.e., the difference between the leftmost plot of the first two figures."
   ]
  },
  {
   "cell_type": "code",
   "execution_count": 8,
   "metadata": {
    "collapsed": true
   },
   "outputs": [],
   "source": [
    "### answer here ###"
   ]
  },
  {
   "cell_type": "markdown",
   "metadata": {},
   "source": [
    "## Ex. 2: Generate Composite Statistics ##\n",
    "\n",
    "Use each of the files once to generate a dataset containing values averaged over all patients:\n",
    "```python\n",
    "filenames = glob.glob('data/inflammation*.csv')\n",
    "composite_data = numpy.zeros((60,40))\n",
    "for f in filenames:\n",
    "    # sum each new file's data into as it's read\n",
    "# and then divide the composite_data by number of samples\n",
    "composite_data /= len(filenames)\n",
    "```"
   ]
  },
  {
   "cell_type": "code",
   "execution_count": 11,
   "metadata": {
    "collapsed": false
   },
   "outputs": [],
   "source": [
    "### answer here ###"
   ]
  },
  {
   "cell_type": "markdown",
   "metadata": {},
   "source": [
    "### Key Points ##\n",
    "\n",
    "* Use glob.glob(pattern) to create a list of files whose names match a pattern.\n",
    "* Use * in a pattern to match zero or more characters, and ? to match any single character."
   ]
  }
 ],
 "metadata": {
  "anaconda-cloud": {},
  "kernelspec": {
   "display_name": "Python [Root]",
   "language": "python",
   "name": "Python [Root]"
  },
  "language_info": {
   "codemirror_mode": {
    "name": "ipython",
    "version": 3
   },
   "file_extension": ".py",
   "mimetype": "text/x-python",
   "name": "python",
   "nbconvert_exporter": "python",
   "pygments_lexer": "ipython3",
   "version": "3.5.2"
  }
 },
 "nbformat": 4,
 "nbformat_minor": 0
}
