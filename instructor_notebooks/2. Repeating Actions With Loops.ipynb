{
 "cells": [
  {
   "cell_type": "markdown",
   "metadata": {},
   "source": [
    "# Repeating actions with loops #\n",
    "\n",
    "### ** Questions ** ###\n",
    "\n",
    "* How can I do the same operations on many different values?\n",
    "   \n",
    "### ** Objectives: ** ###\n",
    "* Learn what a `for` loop does.  \n",
    "* Learn how to write `for` loops to repeat simple calculations.  \n",
    "* Learn how to trace changes to a loop variable as the loop runs.\n",
    "* Learn how to trace changes to other variables as they are updated by a `for` loop. \n",
    "\n",
    "### Analyzing Multiple Multiple Files Using a `for` Loop ###\n",
    "\n",
    "In the last lesson, we noticed some abnormalities in our data, for example the file `inflammation-01.csv`\n",
    "![Analysis of inflammation-01.csv](../fig/03-loop_2_0.png)\n",
    "\n",
    "* But we have many more!  How can we evaluate all these data! The first analysis took sooooo long.\n",
    "* `for` loops allow us to accomplish repeated tasks.\n",
    "* What if we wanted to print each letter of the word \"lead\""
   ]
  },
  {
   "cell_type": "code",
   "execution_count": 1,
   "metadata": {
    "collapsed": true
   },
   "outputs": [],
   "source": []
  },
  {
   "cell_type": "code",
   "execution_count": null,
   "metadata": {
    "collapsed": false
   },
   "outputs": [],
   "source": []
  },
  {
   "cell_type": "markdown",
   "metadata": {},
   "source": [
    "## That worked, what's wrong with that? ##\n",
    "\n",
    "1. It doesn't scale.  \n",
    "2. We may not know how many characters in our variable `word`."
   ]
  },
  {
   "cell_type": "code",
   "execution_count": null,
   "metadata": {
    "collapsed": false
   },
   "outputs": [],
   "source": []
  },
  {
   "cell_type": "markdown",
   "metadata": {},
   "source": [
    "## The `for` Loop ##\n",
    "\n",
    "* Allows us to iterate over.....iterables.\n",
    "* Items that have elements that we can \"loop\" over are called iterables. \n",
    "  * Strings, Lists, and ranges of numbers are iterables.\n",
    "  * Strings have characters to loop over\n",
    "  \n",
    "What if we wanted to print every letter in the word \"oxygen\" stored in a variable `word`?"
   ]
  },
  {
   "cell_type": "code",
   "execution_count": null,
   "metadata": {
    "collapsed": false
   },
   "outputs": [],
   "source": []
  },
  {
   "cell_type": "markdown",
   "metadata": {},
   "source": [
    "![loop_image](../fig/loops_image.png)"
   ]
  },
  {
   "cell_type": "markdown",
   "metadata": {},
   "source": [
    "## `for` Loops Can Do More Than Just Print ##\n",
    "\n",
    "* What if we wanted to count the length of the contents of a string?"
   ]
  },
  {
   "cell_type": "code",
   "execution_count": null,
   "metadata": {
    "collapsed": false
   },
   "outputs": [],
   "source": []
  },
  {
   "cell_type": "markdown",
   "metadata": {},
   "source": [
    "* How many times does the `for` loop execute? \n",
    "* Why is the value of `length` `6`?\n",
    "* What would be the value of `letter` after the code is executed?"
   ]
  },
  {
   "cell_type": "code",
   "execution_count": null,
   "metadata": {
    "collapsed": false
   },
   "outputs": [],
   "source": []
  },
  {
   "cell_type": "markdown",
   "metadata": {},
   "source": [
    "__Note__: Finding the length of iterables is a common task in Python, so much that it has a reserved function called `len()` that does just that.  "
   ]
  },
  {
   "cell_type": "code",
   "execution_count": null,
   "metadata": {
    "collapsed": false
   },
   "outputs": [],
   "source": []
  },
  {
   "cell_type": "markdown",
   "metadata": {},
   "source": [
    "### From 1 to N ###\n",
    "\n",
    "Python has a built-in function called range that creates a sequence of numbers. Range can accept 1-3 parameters. If one parameter is input, range creates an array of that length, starting at zero and incrementing by 1. If 2 parameters are input, range starts at the first and ends just before the second, incrementing by one. If range is passed 3 parameters, it starts at the first one, ends just before the second one, and increments by the third one. For example, range(3) produces the numbers 0, 1, 2, while range(2, 5) produces 2, 3, 4, and range(3, 10, 3) produces 3, 6, 9. Using range, write a loop that uses range to print the first 3 natural numbers:\n",
    ">1  \n",
    ">2  \n",
    ">3  "
   ]
  },
  {
   "cell_type": "markdown",
   "metadata": {},
   "source": [
    "## Computing Powers With Loops ##\n",
    "\n",
    "Exponentiation is built into Python:"
   ]
  },
  {
   "cell_type": "code",
   "execution_count": null,
   "metadata": {
    "collapsed": false
   },
   "outputs": [],
   "source": []
  },
  {
   "cell_type": "markdown",
   "metadata": {},
   "source": [
    "Write a loop that calculates the same result as 5 \\** 3 using multiplication (and without exponentiation)."
   ]
  },
  {
   "cell_type": "markdown",
   "metadata": {},
   "source": [
    "## Reverse a String ##\n",
    "\n",
    "Write a loop that takes a string, and produces a new string with the characters in reverse order, so 'Newton' becomes 'notweN'"
   ]
  },
  {
   "cell_type": "code",
   "execution_count": null,
   "metadata": {
    "collapsed": true
   },
   "outputs": [],
   "source": []
  }
 ],
 "metadata": {
  "kernelspec": {
   "display_name": "Python [Root]",
   "language": "python",
   "name": "Python [Root]"
  },
  "language_info": {
   "codemirror_mode": {
    "name": "ipython",
    "version": 3
   },
   "file_extension": ".py",
   "mimetype": "text/x-python",
   "name": "python",
   "nbconvert_exporter": "python",
   "pygments_lexer": "ipython3",
   "version": "3.5.2"
  }
 },
 "nbformat": 4,
 "nbformat_minor": 0
}
